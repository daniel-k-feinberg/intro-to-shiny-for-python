{
  "cells": [
    {
      "cell_type": "raw",
      "metadata": {},
      "source": [
        "---\n",
        "title: \"Getting started\"\n",
        "code-annotations: hover\n",
        "---"
      ],
      "id": "84357ed9"
    },
    {
      "cell_type": "code",
      "metadata": {},
      "source": [
        "# | echo: false\n",
        "import os\n",
        "\n",
        "os.chdir(\"../..\")\n",
        "from helpers import problem_tabs, include_shiny_folder, Quiz, multiple_choice_app"
      ],
      "id": "2feafd47",
      "execution_count": null,
      "outputs": []
    },
    {
      "cell_type": "markdown",
      "metadata": {},
      "source": [
        "# Goal \n",
        "\n",
        "The goal of this section is to learn what you need to do to stand up a Shiny application.\n",
        "Don't worry if you don't really understand how the framework works, or why it's designed in a particular way. \n",
        "All we're trying to do at this stage is to get something working, and become comfortable with the development pattern.\n",
        "\n",
        "\n",
        "# Create an app\n",
        "\n",
        "Shiny apps are divided into two parts.\n",
        "The app *UI* consists of various input and output components, and the *server* expresses how those inputs and outputs should interact. \n",
        "Let's start by creating a basic shiny app.\n",
        "To do this, you can call `shiny create .` in a project folder, or open up `apps/basic-app/app.py` in the repo. \n",
        "This is the simplest possible Shiny application with one input and one output. \n",
        "\n",
        "#### \n"
      ],
      "id": "eff22ce2"
    },
    {
      "cell_type": "code",
      "metadata": {},
      "source": [
        "# | echo: false\n",
        "# | output: asis\n",
        "\n",
        "include_shiny_folder(\"apps/examples/1.0-basic-app\")"
      ],
      "id": "0b16ea05",
      "execution_count": null,
      "outputs": []
    },
    {
      "cell_type": "markdown",
      "metadata": {},
      "source": [
        "There are four important features that your code needs to have to generate a working Shiny app. \n",
        "\n",
        "### 1) UI structure\n",
        "\n",
        "The Shiny UI is defined with a set of nested function calls. \n",
        "You typically start with a container function like `ui.page_fluid()` and then add inputs like `ui.input_slider` and outputs like `ui.output_text_verbatim`.\n",
        "\n",
        "Inputs and outputs have an `id` value which allows you to refer to their values in the `server` function. \n",
        "In this simple example the slider `id` is `\"n\"` and the output id is `\"txt\"`.\n",
        "\n",
        "### 3) Output decorators\n",
        "The server function defines how your app should calculate outputs for a given set of inputs. \n",
        "To do this, you write a function inside the main `server` function which has the same name as the output id, and add two decorators. \n",
        "`@output` tells Shiny that the function is an output, and `@render.text` tells it the output type. \n",
        "So to fill in the logic for the `txt` output we write:\n",
        "\n",
        "```{.python}\n",
        "@output                                     # <1>\n",
        "@render.text                                # <2>\n",
        "def txt():                                  # <3>\n",
        "    return f\"n*2 is {input.n() * 2}\"\n",
        "```\n",
        "1. Identify that this function is an output\n",
        "2. Define output type\n",
        "3. Function name connects it to output id\n",
        "\n",
        "### 4) How to refer to inputs\n",
        "\n",
        "Shiny is a reactive framework which means that it recalculates an output if and only if its inputs change. \n",
        "We'll learn more about reactivity in the next section, but for now just know that referring to an input in an output's server function will automatically cause that output to regenerate when the input changes.\n",
        "You identify these inputs by calling the attribute of the `input` object which corresponds with a particular input id. \n",
        "In this case to refer to `n` we call it with `input.n()`\n",
        " \n",
        "::: callout-tip\n",
        "Note that inputs are called with `()` so it's `input.n()` not `input.n`\n",
        ":::\n",
        "\n",
        "# Improving the app\n",
        "\n",
        "The basic app created by shiny is not terribly interesting, so instead we're going to work with the [palmer penguins](https://github.com/mcnakhaee/palmerpenguins) data to include a data table and a couple of plots. \n",
        "To include a table we need to use a different output function and rendering decorator, but otherwise it works the same as the simple example. \n",
        "\n",
        "::: callout-tip\n",
        "When reading in data it's usually good to use pathlib `Path(__file__).parent` to reference the data relative to the current file. \n",
        "This makes it easier to call `shiny run` from other direcotries without error.\n",
        "::::\n"
      ],
      "id": "e18c1912"
    },
    {
      "cell_type": "code",
      "metadata": {},
      "source": [
        "# | echo: false\n",
        "# | output: asis\n",
        "\n",
        "include_shiny_folder(\"apps/examples/1.1-table-only\")"
      ],
      "id": "2b7e8bf0",
      "execution_count": null,
      "outputs": []
    },
    {
      "cell_type": "markdown",
      "metadata": {},
      "source": [
        "All of the input and output options are documented with interactive examples on the Shiny for Python [reference page](https://shiny.rstudio.com/py/api/). It's a good idea to look a few things up on this page because it's the best place learn about Shiny's functionality. \n",
        "\n",
        "#### Quiz 1.0"
      ],
      "id": "16c68aed"
    },
    {
      "cell_type": "code",
      "metadata": {},
      "source": [
        "# | echo: false\n",
        "# | output: asis\n",
        "\n",
        "questions = Quiz(\n",
        "    {\n",
        "        \"What ui input is used for plots?\": {\n",
        "            \"choices\": [\"ui.input_plot\", \"ui.plot_input\", \"ui.plotInput\"],\n",
        "            \"answer\": \"ui.input_plot\",\n",
        "        },\n",
        "        \"What rendering decorator is used for images?\": {\n",
        "            \"choices\": [\"@render.image\", \"@ui.render.image\", \"@render.Image\"],\n",
        "            \"answer\": \"@render.image\",\n",
        "        },\n",
        "        \"What should you use to collect multiple checkbox reponses?\": {\n",
        "            \"choices\": [\"ui.input.checkbox\", \"ui.checkbox_group\", \"ui.radio_buttons\"],\n",
        "            \"answer\": \"ui.checkbox_group\",\n",
        "        },\n",
        "    }\n",
        ")\n",
        "\n",
        "multiple_choice_app(questions)"
      ],
      "id": "69533c9b",
      "execution_count": null,
      "outputs": []
    },
    {
      "cell_type": "markdown",
      "metadata": {},
      "source": [
        "## Add an input\n",
        "\n",
        "In order to create an interactive app, we need to add an input which the user can manipulate. \n",
        "Let's add a `ui.input_slider` widget which let the user select the minimum body mass to include in the table. \n",
        "To do this we need to do two things:\n",
        "\n",
        "1) Add the `ui.input_slider` function to the ui code \n",
        "2) Use the value of that code in the rendering function which generates the table.\n",
        "\n",
        "::: callout-warning\n",
        "Be careful of mutability when manipulating objects in a data frame. \n",
        "Use `.copy` to make sure that you're not changing the original object.\n",
        ":::\n"
      ],
      "id": "e163f882"
    },
    {
      "cell_type": "code",
      "metadata": {},
      "source": [
        "# | echo: false\n",
        "# | output: asis\n",
        "\n",
        "include_shiny_folder(\"apps/examples/1.3-table-input-slider\")"
      ],
      "id": "696d6546",
      "execution_count": null,
      "outputs": []
    },
    {
      "cell_type": "markdown",
      "metadata": {},
      "source": [
        "## Add a plot\n",
        "\n",
        "We can add a plot to the app in the same way that we added a table. \n",
        "The steps are:\n",
        "1) Add `ui.output_plot()` to the ui\n",
        "2) Add a function whose name matches the id of the output \n",
        "3) Decorate that function with `@output` and `@reactive.plot`\n"
      ],
      "id": "b832855d"
    },
    {
      "cell_type": "code",
      "metadata": {},
      "source": [
        "# | echo: false\n",
        "# | output: asis\n",
        "\n",
        "include_shiny_folder(\"apps/examples/1.4-table-graph-input-slider\")"
      ],
      "id": "e5492951",
      "execution_count": null,
      "outputs": []
    },
    {
      "cell_type": "code",
      "metadata": {},
      "source": [
        "# | echo: false\n",
        "# | output: asis\n",
        "\n",
        "problem_tabs(\"apps/problem-sets/1-getting-started/1.10-add-plot\")"
      ],
      "id": "f7b1e4d0",
      "execution_count": null,
      "outputs": []
    },
    {
      "cell_type": "markdown",
      "metadata": {},
      "source": [
        "# Summary\n",
        "\n",
        "In this section you learned the three main things you need to do to get your Shiny app to run:\n",
        "\n",
        "- Add inputs and outputs to the UI\n",
        "- Add server functions which are decorated with `@output` and `@render`\n",
        "- Refer to inputs within server funtions with `input.<id>()`\n",
        "\n",
        "Next, we'll learn what Shiny does to make this all work."
      ],
      "id": "5f330219"
    }
  ],
  "metadata": {
    "kernelspec": {
      "name": "python3",
      "language": "python",
      "display_name": "Python 3 (ipykernel)"
    }
  },
  "nbformat": 4,
  "nbformat_minor": 5
}