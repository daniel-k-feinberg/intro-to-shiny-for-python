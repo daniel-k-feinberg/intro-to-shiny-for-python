{
  "cells": [
    {
      "cell_type": "raw",
      "metadata": {},
      "source": [
        "---\n",
        "title: \"Hello Shiny\"\n",
        "---"
      ],
      "id": "a2e2de7a"
    },
    {
      "cell_type": "code",
      "metadata": {},
      "source": [
        "# | echo: false\n",
        "import os\n",
        "\n",
        "os.chdir(\"../\")\n",
        "from helpers import problem_tabs"
      ],
      "id": "ca41e64c",
      "execution_count": null,
      "outputs": []
    },
    {
      "cell_type": "code",
      "metadata": {},
      "source": [
        "# | echo: false\n",
        "# | output: asis\n",
        "\n",
        "problem_tabs(\"1.0-hello-world\")"
      ],
      "id": "c79635c3",
      "execution_count": null,
      "outputs": []
    },
    {
      "cell_type": "code",
      "metadata": {},
      "source": [
        "# | echo: false\n",
        "# | output: asis\n",
        "\n",
        "problem_tabs(\"1.1-data-frame\")"
      ],
      "id": "70e631f7",
      "execution_count": null,
      "outputs": []
    },
    {
      "cell_type": "code",
      "metadata": {},
      "source": [
        "# | echo: false\n",
        "# | output: asis\n",
        "\n",
        "problem_tabs(\"1.2-debug\")"
      ],
      "id": "c8796255",
      "execution_count": null,
      "outputs": []
    },
    {
      "cell_type": "code",
      "metadata": {},
      "source": [
        "# | echo: false\n",
        "# | output: asis\n",
        "\n",
        "problem_tabs(\"1.3-filter-input\")"
      ],
      "id": "2bbeee3b",
      "execution_count": null,
      "outputs": []
    },
    {
      "cell_type": "code",
      "metadata": {},
      "source": [
        "# | echo: false\n",
        "# | output: asis\n",
        "\n",
        "problem_tabs(\"1.4-filter-connect\")"
      ],
      "id": "1dd9c06a",
      "execution_count": null,
      "outputs": []
    },
    {
      "cell_type": "code",
      "metadata": {},
      "source": [
        "# | echo: false\n",
        "# | output: asis\n",
        "\n",
        "problem_tabs(\"1.5-debug\")"
      ],
      "id": "cf16bbf2",
      "execution_count": null,
      "outputs": []
    },
    {
      "cell_type": "code",
      "metadata": {},
      "source": [
        "# | echo: false\n",
        "# | output: asis\n",
        "\n",
        "problem_tabs(\"1.6-debug\")"
      ],
      "id": "3cf67331",
      "execution_count": null,
      "outputs": []
    },
    {
      "cell_type": "code",
      "metadata": {},
      "source": [
        "# | echo: false\n",
        "# | output: asis\n",
        "\n",
        "problem_tabs(\"1.7-add-plot\")"
      ],
      "id": "48880751",
      "execution_count": null,
      "outputs": []
    }
  ],
  "metadata": {
    "kernelspec": {
      "name": "python3",
      "language": "python",
      "display_name": "Python 3 (ipykernel)"
    }
  },
  "nbformat": 4,
  "nbformat_minor": 5
}