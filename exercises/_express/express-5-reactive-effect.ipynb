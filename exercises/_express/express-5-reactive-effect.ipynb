{
  "cells": [
    {
      "cell_type": "raw",
      "metadata": {},
      "source": [
        "---\n",
        "title: \"Reactive Effects\"\n",
        "---"
      ],
      "id": "60e4571c"
    },
    {
      "cell_type": "code",
      "metadata": {},
      "source": [
        "# | echo: false\n",
        "import os\n",
        "\n",
        "os.chdir(\"../\")\n",
        "from helpers import problem_tabs"
      ],
      "id": "fda69c85",
      "execution_count": null,
      "outputs": []
    },
    {
      "cell_type": "code",
      "metadata": {},
      "source": [
        "# | echo: false\n",
        "# | output: asis\n",
        "\n",
        "problem_tabs(\"express-5.1-reactive-event\")"
      ],
      "id": "6a6026d0",
      "execution_count": null,
      "outputs": []
    },
    {
      "cell_type": "code",
      "metadata": {},
      "source": [
        "# | echo: false\n",
        "# | output: asis\n",
        "\n",
        "problem_tabs(\"express-5.2-reactive-effect\")"
      ],
      "id": "28463699",
      "execution_count": null,
      "outputs": []
    }
  ],
  "metadata": {
    "kernelspec": {
      "name": "python3",
      "language": "python",
      "display_name": "Python 3 (ipykernel)"
    }
  },
  "nbformat": 4,
  "nbformat_minor": 5
}